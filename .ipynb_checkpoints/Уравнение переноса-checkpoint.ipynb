{
 "cells": [
  {
   "cell_type": "code",
   "execution_count": null,
   "metadata": {},
   "outputs": [],
   "source": [
    "import numpy as np\n",
    "import math\n",
    "from matplotlib import pyplot as plt\n",
    "from matplotlib.animation import FuncAnimation\n",
    "plt.style.use('seaborn-pastel')"
   ]
  },
  {
   "cell_type": "code",
   "execution_count": null,
   "metadata": {},
   "outputs": [],
   "source": [
    "L, t, h = 20, 18, 0.5\n",
    "σ = float(input(\"Enter CFL:\"))\n",
    "τ = σ * h\n",
    "X = np.linspace(0, L, int(L/h) + 1)\n",
    "T = np.linspace(0, t, int(t/τ) + 1)\n",
    "u = [round(math.sin((4 * math.pi * x)/L), 3) for x in X]"
   ]
  },
  {
   "cell_type": "markdown",
   "metadata": {},
   "source": [
    "Схема уголок против потока:\n",
    "\n",
    "  1)  $\\frac{y_{m}^{n+1} + y_{m}^{n}}{\\tau}$ -  $\\frac{y_{m}^{n} - y_{m-1}^{n}}{h}$ = 0\n",
    "  \n",
    "Схема Лакса–Вендроффа:\n",
    "\n",
    "  2) $\\frac{y_{m}^{n+1} - y_{m}^{n}}{\\tau}$ +  $\\frac{y_{m+1}^{n} - y_{m-1}^{n}}{2h}$ - $\\frac{\\tau}{2}\\ \\frac{y_{m+1}^{n} - 2y_{m}^{n} + y_{m-1}^{n}}{h^2}$= 0"
   ]
  },
  {
   "cell_type": "code",
   "execution_count": null,
   "metadata": {},
   "outputs": [],
   "source": [
    "def f1(y0, y1):\n",
    "    y = y1 -  σ * (y1 - y0)\n",
    "    return y\n",
    "\n",
    "\n",
    "def f2(y0, y1, y2):\n",
    "    y = y1 + (σ**2/2)*(y2 - 2*y1 + y0) - (σ/2) * (y2 - y0)\n",
    "    return y"
   ]
  },
  {
   "cell_type": "code",
   "execution_count": null,
   "metadata": {},
   "outputs": [],
   "source": [
    "cs = [[0] * len(X) for i in range(len(T))]\n",
    "lws = [[0] * len(X) for i in range(len(T))]\n",
    "cs[0] = u\n",
    "lws[0] = u"
   ]
  },
  {
   "cell_type": "code",
   "execution_count": null,
   "metadata": {},
   "outputs": [],
   "source": [
    "for i in range(0, len(T)-1):\n",
    "    for j in range(1, len(X)):\n",
    "        cs[i + 1][j] = f1(cs[i][j-1], cs[i][j])\n",
    "    cs[i + 1][0] = cs[i + 1][len(X) - 1]"
   ]
  },
  {
   "cell_type": "code",
   "execution_count": null,
   "metadata": {},
   "outputs": [],
   "source": [
    "for i in range(0, len(T)-1):\n",
    "    for j in range(len(X)):\n",
    "        lws[i + 1][j] = f2(lws[i][j-1], lws[i][j],lws[i][j+1-len(X)])\n",
    "        lws[i + 1][0] = lws[i + 1][len(X) - 1]"
   ]
  },
  {
   "cell_type": "code",
   "execution_count": null,
   "metadata": {},
   "outputs": [],
   "source": [
    "%matplotlib notebook\n",
    "plt.style.use('seaborn-pastel')\n",
    "\n",
    "fig = plt.figure()\n",
    "ax = plt.axes(xlim=(0, 20), ylim=(-1.5, 1.5))\n",
    "plt.title('Схема уголок,CFL = 1.01')\n",
    "plt.plot([0,20],[1,1],color=\"red\")\n",
    "plt.plot([0,20],[-1,-1],color=\"red\")\n",
    "line, = ax.plot([], [], lw=3)\n",
    "time_text = ax.text(0.02, 0.95, '', transform=ax.transAxes)\n",
    "\n",
    "def init():\n",
    "    time_text.set_text('')\n",
    "    line.set_data([], [])\n",
    "    return line,\n",
    "def animate(i):\n",
    "    x = X\n",
    "    y = cs[i]\n",
    "    time_text.set_text(i)\n",
    "    line.set_data(x, y)\n",
    "    return line,\n",
    " \n",
    "anim = FuncAnimation(fig, animate, init_func=init,\n",
    "                               frames=18, interval=300, blit=True)\n",
    "anim.save('gif/Схема уголок.gif', writer='imagemagick')\n",
    " "
   ]
  },
  {
   "cell_type": "markdown",
   "metadata": {},
   "source": [
    "![Alt Text](https://i.imgur.com/nnsyQ7F.gif)"
   ]
  },
  {
   "cell_type": "markdown",
   "metadata": {},
   "source": [
    "![Alt Text](https://i.imgur.com/hi1EXdQ.gif)"
   ]
  },
  {
   "cell_type": "markdown",
   "metadata": {},
   "source": [
    "![Alt Text](https://i.imgur.com/Um9av5C.gif)"
   ]
  },
  {
   "cell_type": "code",
   "execution_count": null,
   "metadata": {
    "scrolled": true
   },
   "outputs": [],
   "source": [
    "%matplotlib notebook\n",
    "plt.style.use('seaborn-pastel')\n",
    "\n",
    "fig = plt.figure()\n",
    "ax = plt.axes(xlim=(0, 20), ylim=(-1.5, 1.5))\n",
    "plt.title('Схема Лакса–Вендроффа')\n",
    "plt.plot([0,20],[1,1],color=\"red\")\n",
    "plt.plot([0,20],[-1,-1],color=\"red\")\n",
    "line, = ax.plot([], [], lw=3)\n",
    "time_text = ax.text(0.02, 0.95, '', transform=ax.transAxes)\n",
    "\n",
    "def init():\n",
    "    time_text.set_text('')\n",
    "    line.set_data([], [])\n",
    "    return line,\n",
    "def animate(i):\n",
    "    x = X\n",
    "    y = lws[i]\n",
    "    time_text.set_text(i)\n",
    "    line.set_data(x, y)\n",
    "    return line,\n",
    " \n",
    "anim = FuncAnimation(fig, animate, init_func=init,\n",
    "                               frames=18, interval=300, blit=True)\n",
    "anim.save('gif/Схема Лакса–Вендроффа.gif', writer='imagemagick')"
   ]
  },
  {
   "cell_type": "markdown",
   "metadata": {},
   "source": [
    "![Alt Text](https://i.imgur.com/goXokQ7.gif)"
   ]
  },
  {
   "cell_type": "markdown",
   "metadata": {},
   "source": [
    "![Alt Text](https://i.imgur.com/Uv9eRg6.gif)"
   ]
  },
  {
   "cell_type": "markdown",
   "metadata": {},
   "source": [
    "![Alt Text](https://i.imgur.com/vra3WCz.gif)"
   ]
  }
 ],
 "metadata": {
  "kernelspec": {
   "display_name": "Python 3",
   "language": "python",
   "name": "python3"
  },
  "language_info": {
   "codemirror_mode": {
    "name": "ipython",
    "version": 3
   },
   "file_extension": ".py",
   "mimetype": "text/x-python",
   "name": "python",
   "nbconvert_exporter": "python",
   "pygments_lexer": "ipython3",
   "version": "3.7.4"
  }
 },
 "nbformat": 4,
 "nbformat_minor": 4
}
