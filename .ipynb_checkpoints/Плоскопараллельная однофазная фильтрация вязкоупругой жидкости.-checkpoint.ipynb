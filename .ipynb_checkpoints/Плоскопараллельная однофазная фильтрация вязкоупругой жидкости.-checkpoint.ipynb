{
 "cells": [
  {
   "cell_type": "code",
   "execution_count": null,
   "metadata": {},
   "outputs": [],
   "source": [
    "import numpy as np\n",
    "import sys\n",
    "from numpy import linalg as LA\n",
    "import math\n",
    "from matplotlib import pyplot as plt\n",
    "from matplotlib.animation import FuncAnimation\n",
    "plt.style.use('seaborn-pastel')"
   ]
  },
  {
   "cell_type": "code",
   "execution_count": null,
   "metadata": {},
   "outputs": [],
   "source": [
    "Δz,B,L = 10.0,50.0,500.0 # в м\n",
    "P0,ρ0 = 120e5,1000.0\n",
    "сf = 1e-9\n",
    "k,μ,φ = 1e-14,1e-3,0.2"
   ]
  },
  {
   "cell_type": "markdown",
   "metadata": {},
   "source": [
    "$\\rho = \\rho_{0}*(1 + c_{f}*(P - P_{0}))$"
   ]
  },
  {
   "cell_type": "code",
   "execution_count": null,
   "metadata": {},
   "outputs": [],
   "source": [
    "def ρ(P):\n",
    "    return ρ0 * (1.0 + сf * (P - P0))"
   ]
  },
  {
   "cell_type": "markdown",
   "metadata": {},
   "source": [
    "1)Задание начальных данных:"
   ]
  },
  {
   "cell_type": "code",
   "execution_count": null,
   "metadata": {},
   "outputs": [],
   "source": [
    "N = 100 # N узлов\n",
    "T = 864000 # Т секунд\n",
    "τ = 3600   # τ секунд\n",
    "Pinj = 1.52e+7   # Pinj в ПА\n",
    "Pprod = 5.066e+6 # Pprod в ПА\n",
    "P_0 = 1.013e+7   # P_0 в ПА"
   ]
  },
  {
   "cell_type": "markdown",
   "metadata": {},
   "source": [
    "2)Генерация сетки:"
   ]
  },
  {
   "cell_type": "code",
   "execution_count": null,
   "metadata": {},
   "outputs": [],
   "source": [
    "t = 0\n",
    "h = L / (N)\n",
    "X = np.linspace(0,500,100)\n",
    "P = np.zeros(N)\n",
    "Q , K = np.zeros(N), np.zeros(N)\n",
    "a, b, c, d = np.zeros(N), np.zeros(N), np.zeros(N), np.zeros(N)\n",
    "data = np.zeros((81,N))\n",
    "P[0] = Pinj\n",
    "for i in range(1,N-1):\n",
    "    P[i] = P_0\n",
    "P[N - 1] = Pprod\n",
    "data[0][:] = P"
   ]
  },
  {
   "cell_type": "markdown",
   "metadata": {},
   "source": [
    "3)В цикле по времени:"
   ]
  },
  {
   "cell_type": "code",
   "execution_count": null,
   "metadata": {},
   "outputs": [],
   "source": [
    "while t < T:\n",
    "#рассчитываются коэффициенты матрицы \n",
    "    a[0] = 1.0\n",
    "    b[0] = 0.0\n",
    "    d[0] = Pinj\n",
    "    for i in range(1,N-1):\n",
    "        c[i] = k * (ρ(P[i]) if P[i] >= P[i+1] else ρ(P[i+1])) / (μ*h*h)\n",
    "        b[i] = k * (ρ(P[i-1]) if P[i-1] >= P[i] else ρ(P[i])) / (μ*h*h)\n",
    "        a[i] = - c[i] - b[i] - (φ * сf * ρ0 / τ)\n",
    "        d[i] = - (φ * сf * ρ0 / τ) * P[i]\n",
    "    a[N - 1] = 1.0\n",
    "    c[N - 1] = 0.0\n",
    "    d[N - 1] = Pprod\n",
    "#методом прогонки находится решение системы\n",
    "   ##Прямой ход прогонки\n",
    "    Q[1] = - b[0] / a[0]\n",
    "    K[1] = d[0] / a[0]\n",
    "    for i in range(1,N-1):\n",
    "        Q[i + 1] = - b[i] / (c[i] * Q[i] + a[i])\n",
    "        K[i + 1] = (d[i] - c[i] * K[i]) / (c[i] * Q[i] + a[i])\n",
    "    #Обратный ход прогонки\n",
    "    P[N - 1] = (d[N - 1] - c[N - 1] * K[N - 1]) / (c[N - 1] * Q[N - 1] + a[N - 1])\n",
    "    for i in range (N-1,0,-1):\n",
    "        P[i - 1] = Q[i] * P[i] + K[i]\n",
    "    ##запись результатов(каждые 3 часа)\n",
    "    if(t%10800 == 0):\n",
    "        data[int(t/10800)+1][:] = P\n",
    "# инкрементирование времени\n",
    "    t += τ"
   ]
  },
  {
   "cell_type": "code",
   "execution_count": null,
   "metadata": {},
   "outputs": [],
   "source": [
    "%matplotlib notebook\n",
    "plt.style.use('seaborn-pastel')\n",
    "\n",
    "fig = plt.figure()\n",
    "ax = plt.axes(xlim=(0, 505), ylim=(-0.5e7, 2e7))\n",
    "ax.set_ylabel(\"P,Па\")\n",
    "ax.set_xlabel(\"x,м\")\n",
    "plt.title('График P(t)') \n",
    "plt.grid()\n",
    "line, = ax.plot([], [], lw=3)\n",
    "time_text = ax.text(0.02, 0.95, '', transform=ax.transAxes)\n",
    "\n",
    "def init():\n",
    "    time_text.set_text('')\n",
    "    line.set_data([], [])\n",
    "    return line,\n",
    "def animate(i):\n",
    "    x = X\n",
    "    y = data[i]\n",
    "    time_text.set_text(i)\n",
    "    line.set_data(x, y)\n",
    "    return line,\n",
    " \n",
    "anim = FuncAnimation(fig, animate, init_func=init,\n",
    "                               frames=80, interval=300, blit=True)\n",
    "anim.save('gif/график P(t).gif', writer='imagemagick')"
   ]
  },
  {
   "cell_type": "markdown",
   "metadata": {},
   "source": [
    "![Alt Text](https://i.imgur.com/yoJdT03.gif)"
   ]
  }
 ],
 "metadata": {
  "kernelspec": {
   "display_name": "Python 3",
   "language": "python",
   "name": "python3"
  },
  "language_info": {
   "codemirror_mode": {
    "name": "ipython",
    "version": 3
   },
   "file_extension": ".py",
   "mimetype": "text/x-python",
   "name": "python",
   "nbconvert_exporter": "python",
   "pygments_lexer": "ipython3",
   "version": "3.7.4"
  }
 },
 "nbformat": 4,
 "nbformat_minor": 4
}
