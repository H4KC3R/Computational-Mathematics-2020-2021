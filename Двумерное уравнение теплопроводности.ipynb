{
 "cells": [
  {
   "cell_type": "markdown",
   "metadata": {},
   "source": [
    "Рассматривается следующая задача:\n",
    "\n",
    "$\\\\ 25λ\\frac{\\partial^{2}φ}{\\partial x^{2}} + λ\\frac{\\partial^{2}φ}{\\partial y^{2}} = \\frac{\\partialφ}{\\partial t} \\qquad x,y,t \\in [0,1] $\n",
    "\n",
    "$ φ(x,y,0) = cos(πx)sin(5πy) \\\\ φ(x,0,t) = φ(x,1,t) = 0, \\qquad x,t \\in [0,1] \\\\ φ(0,y,t) = sin(5πy) * exp(-5π^{2}t),\\quad φ(1,y,t) = -sin(5πy) * exp(-5π^{2}t),\\qquad y,t \\in [0,1]$\n",
    "\n",
    " решаем ее численными методами."
   ]
  },
  {
   "cell_type": "code",
   "execution_count": 1,
   "metadata": {},
   "outputs": [],
   "source": [
    "import math\n",
    "import numpy as np"
   ]
  },
  {
   "cell_type": "code",
   "execution_count": 3,
   "metadata": {},
   "outputs": [],
   "source": [
    "λ = 1e-4\n",
    "π = math.pi\n",
    "τ = 1e-3\n",
    "T = 1\n",
    "ε = 1e-2"
   ]
  },
  {
   "cell_type": "markdown",
   "metadata": {},
   "source": [
    "Начальные условия:"
   ]
  },
  {
   "cell_type": "code",
   "execution_count": 4,
   "metadata": {},
   "outputs": [],
   "source": [
    "def φt0(x,y):\n",
    "    return np.sin(5*π*y) * np.cos(π*x)"
   ]
  },
  {
   "cell_type": "markdown",
   "metadata": {},
   "source": [
    "Граничное условие:"
   ]
  },
  {
   "cell_type": "code",
   "execution_count": 5,
   "metadata": {},
   "outputs": [],
   "source": [
    "def φx0(x,t):\n",
    "    return 0.0\n",
    "def φx1(x,t):\n",
    "    return 0.0\n",
    "def φy0(y,t):\n",
    "    return (np.sin(5*π*y) * np.exp(-5*π*π*λ*t))\n",
    "def φy1(y,t):\n",
    "    return (-np.sin(5*π*y) * np.exp(-5*π*π*λ*t))"
   ]
  },
  {
   "cell_type": "markdown",
   "metadata": {},
   "source": [
    "Аналитическое решение уравнения:"
   ]
  },
  {
   "cell_type": "code",
   "execution_count": null,
   "metadata": {},
   "outputs": [],
   "source": [
    "def analytical(x,y,t):\n",
    "    return np.sin(5*π*y) * np.cos(π*x) * np.exp(-5*π*π*λ*t)"
   ]
  },
  {
   "cell_type": "code",
   "execution_count": null,
   "metadata": {},
   "outputs": [],
   "source": []
  }
 ],
 "metadata": {
  "kernelspec": {
   "display_name": "Python 3",
   "language": "python",
   "name": "python3"
  },
  "language_info": {
   "codemirror_mode": {
    "name": "ipython",
    "version": 3
   },
   "file_extension": ".py",
   "mimetype": "text/x-python",
   "name": "python",
   "nbconvert_exporter": "python",
   "pygments_lexer": "ipython3",
   "version": "3.7.4"
  }
 },
 "nbformat": 4,
 "nbformat_minor": 4
}
