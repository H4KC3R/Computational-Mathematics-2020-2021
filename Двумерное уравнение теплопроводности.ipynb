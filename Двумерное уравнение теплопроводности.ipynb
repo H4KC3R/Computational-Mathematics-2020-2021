{
 "cells": [
  {
   "cell_type": "markdown",
   "metadata": {},
   "source": [
    "Рассматривается следующая задача:\n",
    "\n",
    "$\\\\ 25\\lambda\\frac{\\partial^{2}\\phi}{\\partial x^{2}} + \\lambda\\frac{\\partial^{2}\\phi}{\\partial y^{2}} = \\frac{\\partial\\phi}{\\partial \\tau} \\qquad x,y,t \\in [0,1] $\n",
    "\n",
    "$ \\phi(x,y,0) = cos(\\pi x)sin(5\\pi y) \\\\ \\phi(x,0,t) = \\phi(x,1,t) = 0, \\qquad x,t \\in [0,1] \\\\ \\phi(0,y,t) = sin(5\\pi y)exp(-5\\pi^{2}t),\\quad \\phi(1,y,t) = -sin(5\\pi y)exp(-5\\pi^{2}t),\\qquad y,t \\in [0,1]$\n",
    "\n",
    " решаем ее численными методами."
   ]
  },
  {
   "cell_type": "markdown",
   "metadata": {},
   "source": [
    "После дискретизаций уравнения:\n",
    "\n",
    "$ 25\\lambda\\frac{\\partial^{2}\\phi}{\\partial x^{2}} \\approx 25\\lambda\\frac{u_{i+1,j}^{n+1} - 2u_{i,j}^{n+1} + u_{i-1,j}^{n+1}}{h_{x}^2} \\qquad\n",
    " \\lambda\\frac{\\partial^{2}\\phi}{\\partial y^{2}} \\approx \\lambda\\frac{u_{i,j+1}^{n+1} - 2u_{i,j}^{n+1} + u_{i,j-1}^{n+1}}{h_{y}^2} \\qquad  \\frac{\\partial\\phi}{\\partial \\tau} \\approx \\frac{u_{i,j}^{n+1} - u_{i,j}^{n}}{\\tau}$\n",
    "\n",
    "Откуда получаем:\n",
    "$ cu_{i-1,j}^{n+1} + gu_{i,j-1}^{n+1} + au_{i,j}^{n+1} + bu_{i+1,j}^{n+1} + fu_{i,j+1}^{n+1} = d_{i,j} $\n",
    "\n",
    "где:\n",
    "\n",
    "$ a = -\\frac{50\\lambda}{h_{x}^2} -  \\frac{2\\lambda}{h_{y}^2} -  \\frac{1}{\\tau}$ $\\qquad$ $ b = \\frac{25\\lambda}{h_{x}^2}$\n",
    "\n",
    "$ c = \\frac{25\\lambda}{h_{x}^2}$ $\\quad$ $ g = -\\frac{\\lambda}{h_{x}^2}$ $\\quad$ $ f = -\\frac{\\lambda}{h_{x}^2} \\quad d_{i,j}^{n} = -\\frac{u_{i,j}^{n}}{\\tau}$\n",
    "\n",
    "В итоге:\n",
    "$ cu_{i-1,j}^{n+1}  + au_{i,j}^{n+1} + bu_{i+1,j}^{n+1}  = d_{i,j} - gu_{i,j-1}^{n+1} - fu_{i,j+1}^{n} $\n",
    "\n",
    "решаем ee прогонкой"
   ]
  },
  {
   "cell_type": "code",
   "execution_count": 1,
   "metadata": {},
   "outputs": [],
   "source": [
    "import math\n",
    "import numpy as np"
   ]
  },
  {
   "cell_type": "code",
   "execution_count": 2,
   "metadata": {},
   "outputs": [],
   "source": [
    "λ = 1e-4\n",
    "π = math.pi"
   ]
  },
  {
   "cell_type": "markdown",
   "metadata": {},
   "source": [
    "Начальные условия:"
   ]
  },
  {
   "cell_type": "code",
   "execution_count": 3,
   "metadata": {},
   "outputs": [],
   "source": [
    "def φt0(x,y):\n",
    "    return np.sin(5*π*y) * np.cos(π*x)"
   ]
  },
  {
   "cell_type": "markdown",
   "metadata": {},
   "source": [
    "Граничное условие:"
   ]
  },
  {
   "cell_type": "code",
   "execution_count": 4,
   "metadata": {},
   "outputs": [],
   "source": [
    "def φx0(x,t):\n",
    "    return 0.0\n",
    "def φx1(x,t):\n",
    "    return 0.0\n",
    "def φy0(y,t):\n",
    "    return (np.sin(5*π*y) * np.exp(-5*π*π*λ*t))\n",
    "def φy1(y,t):\n",
    "    return (-np.sin(5*π*y) * np.exp(-5*π*π*λ*t))"
   ]
  },
  {
   "cell_type": "markdown",
   "metadata": {},
   "source": [
    "Аналитическое решение уравнения:"
   ]
  },
  {
   "cell_type": "code",
   "execution_count": 5,
   "metadata": {},
   "outputs": [],
   "source": [
    "def analytical(x,y,t):\n",
    "    return np.sin(5*π*y) * np.cos(π*x) * np.exp(-5*π*π*λ*t)"
   ]
  },
  {
   "cell_type": "code",
   "execution_count": 6,
   "metadata": {
    "scrolled": true
   },
   "outputs": [
    {
     "name": "stdout",
     "output_type": "stream",
     "text": [
      "ENTER NX:100\n"
     ]
    }
   ],
   "source": [
    "NX = int(input(\"ENTER NX:\"))\n",
    "NY = NX\n",
    "## Генерация сетки\n",
    "hx = 1/(NX-1)\n",
    "hy = 1/(NY-1)\n",
    "X = np.linspace(0.0,1.0,NX)\n",
    "Y = np.linspace(0.0,1.0,NY)\n",
    "num = NX * NY\n",
    "## Задание нач.данных\n",
    "τ = 1e-3\n",
    "T = 1\n",
    "t = 0 \n",
    "## Нумерация по строкам\n",
    "φ = np.zeros(num)\n",
    "φanalytical = np.zeros(num)\n",
    "for i in range(num):\n",
    "    φ[i] = round(φt0(hx * (i % NX), hy * int(i / NX)),4)\n",
    "    φanalytical[i] = round(analytical(hx * (i % NX),hy * int(i / NX),0.5),4)\n",
    "φ1 = np.zeros(num)"
   ]
  },
  {
   "cell_type": "code",
   "execution_count": 7,
   "metadata": {},
   "outputs": [],
   "source": [
    "Q , K = np.zeros(NX-1), np.zeros(NX-1)\n",
    "## рассчитываем коэфиценты матрицы\n",
    "a = -(50*λ/hx**2) - (2*λ/hy**2) - (1/τ)\n",
    "b = 25*λ/hx**2\n",
    "c = 25*λ/hx**2\n",
    "d = np.zeros(NX-2)\n",
    "t = 0\n",
    "count = 0"
   ]
  },
  {
   "cell_type": "code",
   "execution_count": null,
   "metadata": {},
   "outputs": [],
   "source": [
    "while t < T:\n",
    "# Расчет решения на границах:\n",
    "    for k in range(num):\n",
    "        if(int(k/NX) == 0):\n",
    "            φ1[k] = φx0(hx*(k % NX),t)\n",
    "        elif(int(k/NX) == NY-1):\n",
    "            φ1[k] = φx1(hx*(k % NX),t)\n",
    "        elif(((k%NX) == 0) and (int(k/NX) != NY-1)) :\n",
    "            φ1[k] = φy0(hy * int(i / NX),t)\n",
    "        elif(((k%NX) == NX - 1) and (int(k/NX) != NY-1)) :\n",
    "            φ1[k] = φy0(hy * int(i / NX),t)\n",
    "        else:\n",
    "            φ1[k] = 0\n",
    "    for j in range(1,NY-1):\n",
    "        for i in range(1,NX-1):\n",
    "    # Вычисление правой части:\n",
    "            k = j * NX + i\n",
    "            d[i-1] = -(φ[k]/τ) + (λ * φ1[k - NX]/hx**2) + (λ * φ[k + NX]/hx**2)\n",
    "    # Методом прогонки находится решение системы\n",
    "## Прямой ход прогонки\n",
    "        Q[1] = - b / a\n",
    "        K[1] = d[0] / a\n",
    "        for m in range(1,NX-2):\n",
    "            Q[m + 1] = - b / (c * Q[m] + a)\n",
    "            K[m + 1] = (d[m] - c * K[m]) / (c * Q[m] + a)\n",
    "## Обратный ход прогонки\n",
    "        k = (j * NX) + NX - 2   \n",
    "        φ1[k] = (d[NX - 3] - c * K[NX - 3]) / (c * Q[NX - 3] + a)\n",
    "        for l in range (NX-2,1,-1):\n",
    "            k = (j * NX) + l\n",
    "            φ1[k - 1] = Q[i] * φ1[k] + K[i]\n",
    "# Инкрементирование по времени\n",
    "    if(count == 500):\n",
    "        error = max(φ1-φanalytical)\n",
    "    φ = φ1\n",
    "    φ1 = np.zeros(num)\n",
    "    count += 1\n",
    "    t += τ"
   ]
  },
  {
   "cell_type": "code",
   "execution_count": null,
   "metadata": {},
   "outputs": [],
   "source": [
    "print(error)"
   ]
  },
  {
   "cell_type": "code",
   "execution_count": null,
   "metadata": {},
   "outputs": [],
   "source": []
  }
 ],
 "metadata": {
  "kernelspec": {
   "display_name": "Python 3",
   "language": "python",
   "name": "python3"
  },
  "language_info": {
   "codemirror_mode": {
    "name": "ipython",
    "version": 3
   },
   "file_extension": ".py",
   "mimetype": "text/x-python",
   "name": "python",
   "nbconvert_exporter": "python",
   "pygments_lexer": "ipython3",
   "version": "3.7.4"
  }
 },
 "nbformat": 4,
 "nbformat_minor": 4
}
