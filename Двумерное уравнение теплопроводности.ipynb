{
 "cells": [
  {
   "cell_type": "markdown",
   "metadata": {},
   "source": [
    "Рассматривается следующая задача:\n",
    "\n",
    "$\\\\ 25λ\\frac{\\partial^{2}\\phi}{\\partial x^{2}} + λ\\frac{\\partial^{2}\\phi}{\\partial y^{2}} = \\frac{\\partial\\phi}{\\partial \\tau} \\qquad x,y,t \\in [0,1] $\n",
    "\n",
    "$ \\phi(x,y,0) = cos(\\pi x)sin(5\\pi y) \\\\ \\phi(x,0,t) = \\phi(x,1,t) = 0, \\qquad x,t \\in [0,1] \\\\ \\phi(0,y,t) = sin(5\\pi y)exp(-5\\pi^{2}t),\\quad \\phi(1,y,t) = -sin(5\\pi y)exp(-5\\pi^{2}t),\\qquad y,t \\in [0,1]$\n",
    "\n",
    " решаем ее численными методами."
   ]
  },
  {
   "cell_type": "code",
   "execution_count": 1,
   "metadata": {},
   "outputs": [],
   "source": [
    "import math\n",
    "import numpy as np"
   ]
  },
  {
   "cell_type": "code",
   "execution_count": 2,
   "metadata": {},
   "outputs": [],
   "source": [
    "λ = 1e-4\n",
    "π = math.pi"
   ]
  },
  {
   "cell_type": "markdown",
   "metadata": {},
   "source": [
    "Начальные условия:"
   ]
  },
  {
   "cell_type": "code",
   "execution_count": 3,
   "metadata": {},
   "outputs": [],
   "source": [
    "def φt0(x,y):\n",
    "    return np.sin(5*π*y) * np.cos(π*x)"
   ]
  },
  {
   "cell_type": "markdown",
   "metadata": {},
   "source": [
    "Граничное условие:"
   ]
  },
  {
   "cell_type": "code",
   "execution_count": 4,
   "metadata": {},
   "outputs": [],
   "source": [
    "def φx0(x,t):\n",
    "    return 0.0\n",
    "def φx1(x,t):\n",
    "    return 0.0\n",
    "def φy0(y,t):\n",
    "    return (np.sin(5*π*y) * np.exp(-5*π*π*λ*t))\n",
    "def φy1(y,t):\n",
    "    return (-np.sin(5*π*y) * np.exp(-5*π*π*λ*t))"
   ]
  },
  {
   "cell_type": "markdown",
   "metadata": {},
   "source": [
    "Аналитическое решение уравнения:"
   ]
  },
  {
   "cell_type": "code",
   "execution_count": 5,
   "metadata": {},
   "outputs": [],
   "source": [
    "def analytical(x,y,t):\n",
    "    return np.sin(5*π*y) * np.cos(π*x) * np.exp(-5*π*π*λ*t)"
   ]
  },
  {
   "cell_type": "code",
   "execution_count": 8,
   "metadata": {},
   "outputs": [
    {
     "name": "stdout",
     "output_type": "stream",
     "text": [
      "Enter NX:11\n"
     ]
    }
   ],
   "source": [
    "NX = int(input(\"Enter NX:\"))\n",
    "NY = NX\n",
    "## Генерация сетки\n",
    "hx = 1/(NX - 1)\n",
    "hy = 1/(NY - 1)\n",
    "X = np.arange(0.0,1.0,hx)\n",
    "Y = np.arange(0.0,1.0,hy)\n",
    "num = NX * NY\n",
    "## Задание нач.данных\n",
    "τ = 1e-3\n",
    "T = 1\n",
    "ε = 1e-2\n",
    "## Нумерация по строкам\n",
    "φ = np.zeros(num)\n",
    "for i in range(num):\n",
    "    φ[i] = φt0(hx * (i % NX), hy * (i / NY))"
   ]
  },
  {
   "cell_type": "code",
   "execution_count": null,
   "metadata": {},
   "outputs": [],
   "source": []
  }
 ],
 "metadata": {
  "kernelspec": {
   "display_name": "Python 3",
   "language": "python",
   "name": "python3"
  },
  "language_info": {
   "codemirror_mode": {
    "name": "ipython",
    "version": 3
   },
   "file_extension": ".py",
   "mimetype": "text/x-python",
   "name": "python",
   "nbconvert_exporter": "python",
   "pygments_lexer": "ipython3",
   "version": "3.7.4"
  }
 },
 "nbformat": 4,
 "nbformat_minor": 4
}
