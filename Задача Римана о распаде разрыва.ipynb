{
 "cells": [
  {
   "cell_type": "code",
   "execution_count": null,
   "metadata": {},
   "outputs": [],
   "source": [
    "import numpy as np\n",
    "import sys\n",
    "from numpy import linalg as LA\n",
    "import math\n",
    "from matplotlib import pyplot as plt\n",
    "from matplotlib.animation import FuncAnimation\n",
    "plt.style.use('seaborn-pastel')"
   ]
  },
  {
   "cell_type": "code",
   "execution_count": null,
   "metadata": {},
   "outputs": [],
   "source": [
    "γ = 5/3\n",
    "T = 0.02\n",
    "L = 10\n",
    "vL, vR = 0, 0\n",
    "PL, PR = 1013250, 101325\n",
    "ρL, ρR = 13, 1.3"
   ]
  },
  {
   "cell_type": "code",
   "execution_count": null,
   "metadata": {},
   "outputs": [],
   "source": [
    "def c(e):\n",
    "    c = np.sqrt(γ*(γ-1)*e)\n",
    "    return c\n",
    "\n",
    "\n",
    "def Ω(u,c):\n",
    "    A = np.array(([-u*c,c,γ-1],[-c**2,0,γ-1],[u*c,-c,γ-1]))\n",
    "    return A\n",
    "\n",
    "\n",
    "def Ωinv(A):\n",
    "    return LA.inv(A)\n",
    "\n",
    "\n",
    "def Λ(u,c):\n",
    "    A = np.array(([u+c,0,0],[0,u,0],[0,0,u-c]))\n",
    "    return A\n",
    "\n",
    "\n",
    "def MatMultiply(A,B,C):\n",
    "    return (A.dot(B)).dot(C)"
   ]
  },
  {
   "cell_type": "markdown",
   "metadata": {},
   "source": [
    "1)Задания начальных данных"
   ]
  },
  {
   "cell_type": "code",
   "execution_count": null,
   "metadata": {},
   "outputs": [],
   "source": [
    "t = 0.0\n",
    "τ = 5e-5\n",
    "NX = 101\n",
    "CFL = 0.01\n",
    "P = np.zeros(NX)\n",
    "e = np.zeros(NX)\n",
    "ρ = np.zeros(NX)\n",
    "u = np.zeros(NX)\n",
    "P1 = np.zeros(NX)\n",
    "e1 = np.zeros(NX)\n",
    "ρ1 = np.zeros(NX)\n",
    "u1 = np.zeros(NX)\n",
    "Pdata = np.zeros((66,NX))\n",
    "udata = np.zeros((66,NX))\n",
    "ρdata = np.zeros((66,NX))\n",
    "for i in range(NX):\n",
    "    P[i] = (PR,PL)[i<50]\n",
    "    ρ[i] = (ρR,ρL)[i<50]\n",
    "    u[i] = (vR,vL)[i<50]\n",
    "    e[i] = P[i]/((γ-1) * ρ[i])\n",
    "Pdata[0][:] = P\n",
    "udata[0][:] = u\n",
    "ρdata[0][:] = ρ"
   ]
  },
  {
   "cell_type": "markdown",
   "metadata": {},
   "source": [
    "2)Генерация сетки"
   ]
  },
  {
   "cell_type": "code",
   "execution_count": null,
   "metadata": {},
   "outputs": [],
   "source": [
    "h = 2*L/(NX - 1)\n",
    "X = np.linspace(-L,L, NX)"
   ]
  },
  {
   "cell_type": "markdown",
   "metadata": {},
   "source": [
    "Схема КИР:"
   ]
  },
  {
   "cell_type": "code",
   "execution_count": null,
   "metadata": {},
   "outputs": [],
   "source": [
    "def CIR(x0,x1,x2,A,B,τ):\n",
    "    x = x1 -(τ/(2*h)) * A.dot(x2-x0) + (τ/(2*h)) * B.dot(x2 - 2 * x1 + x0)\n",
    "    return x"
   ]
  },
  {
   "cell_type": "code",
   "execution_count": null,
   "metadata": {},
   "outputs": [],
   "source": [
    "k = 0\n",
    "while t < T:\n",
    "    for i in range(1,NX-1):\n",
    "    ## Расчитываем матрицы\n",
    "        ω = Ω(u[i],c(e[i]))\n",
    "        ωinv = Ωinv(ω)\n",
    "        λ = Λ(u[i],c(e[i]))\n",
    "        λabs = np.abs(λ)\n",
    "        A = MatMultiply(ωinv,λ,ω)\n",
    "        B = MatMultiply(ωinv,λabs,ω)\n",
    "    ## Проверяем выполнения условия устойчивости\n",
    "        if (τ*max(np.diagonal(λabs))/h) > CFL :\n",
    "            τ = h/(max(np.diagonal(λabs) * 100.0))\n",
    "        if τ < 1e-7:\n",
    "            τ = 1e-7\n",
    "    ## Расчет вектора в консервативных переменных\n",
    "        w0 = np.array([ρ[i-1],ρ[i-1]*u[i-1],ρ[i-1]*e[i-1]])\n",
    "        w1 = np.array([ρ[i],ρ[i]*u[i],ρ[i]*e[i]])\n",
    "        w2 = np.array([ρ[i+1],ρ[i+1]*u[i+1],ρ[i+1]*e[i+1]])\n",
    "        \n",
    "        w = CIR(w0,w1,w2,A,B,τ)\n",
    "        ρ1[i] = w[0]\n",
    "        u1[i] = w[1] / w[0]\n",
    "        e1[i] = w[2] / w[0]\n",
    "        P1[i] = (γ - 1.0) * ρ1[i] * e1[i]     \n",
    "    ## Учет граничных условий\n",
    "    ρ1[0] = ρ1[1]\n",
    "    u1[0] = u1[1]\n",
    "    e1[0] = e1[1]\n",
    "    P1[0] = P1[1]\n",
    "\n",
    "    ρ1[NX - 1] = ρ1[NX - 2]\n",
    "    u1[NX - 1] = u1[NX - 2]\n",
    "    e1[NX - 1] = e1[NX - 2]\n",
    "    P1[NX - 1] = P1[NX - 2]\n",
    "    ## Запись результатов(каждые 100 итераций)               \n",
    "    if(k % 100 == 0):\n",
    "        udata[int(k/100)][:] = u1\n",
    "        ρdata[int(k/100)][:] = ρ1\n",
    "        Pdata[int(k/100)][:] = P1\n",
    "    ρ = ρ1\n",
    "    u = u1\n",
    "    e = e1\n",
    "    P = P1\n",
    "    ## Инкрементирование\n",
    "    t += τ\n",
    "    k += 1"
   ]
  },
  {
   "cell_type": "code",
   "execution_count": null,
   "metadata": {},
   "outputs": [],
   "source": [
    "%matplotlib notebook\n",
    "plt.style.use('seaborn-pastel')\n",
    "\n",
    "fig = plt.figure()\n",
    "ax = plt.axes(xlim=(-10, 10), ylim=(0, 2e6))\n",
    "ax.set_ylabel(\"P,Па\")\n",
    "ax.set_xlabel(\"x,м\")\n",
    "plt.title('График P(t)') \n",
    "plt.grid()\n",
    "line, = ax.plot([], [], lw=3)\n",
    "time_text = ax.text(0.02, 0.95, '', transform=ax.transAxes)\n",
    "\n",
    "def init():\n",
    "    time_text.set_text('')\n",
    "    line.set_data([], [])\n",
    "    return line,\n",
    "def animate(i):\n",
    "    x = X\n",
    "    y = Pdata[i]\n",
    "    time_text.set_text(i)\n",
    "    line.set_data(x, y)\n",
    "    return line,\n",
    " \n",
    "anim = FuncAnimation(fig, animate, init_func=init,\n",
    "                               frames=65, interval=300, blit=True)\n",
    "anim.save('gif/график p(t).gif', writer='imagemagick')"
   ]
  },
  {
   "cell_type": "markdown",
   "metadata": {},
   "source": [
    "![Alt Text](https://i.imgur.com/yoJdT03.gif)"
   ]
  },
  {
   "cell_type": "code",
   "execution_count": null,
   "metadata": {},
   "outputs": [],
   "source": [
    "%matplotlib notebook\n",
    "plt.style.use('seaborn-pastel')\n",
    "\n",
    "fig = plt.figure()\n",
    "ax = plt.axes(xlim=(-10, 10), ylim=(-10, 500))\n",
    "ax.set_ylabel(\"u,м/с\")\n",
    "ax.set_xlabel(\"x,м\")\n",
    "plt.title('График u(t)') \n",
    "plt.grid()\n",
    "line, = ax.plot([], [], lw=3)\n",
    "time_text = ax.text(0.02, 0.95, '', transform=ax.transAxes)\n",
    "\n",
    "def init():\n",
    "    time_text.set_text('')\n",
    "    line.set_data([], [])\n",
    "    return line,\n",
    "def animate(i):\n",
    "    x = X\n",
    "    y = udata[i]\n",
    "    time_text.set_text(i)\n",
    "    line.set_data(x, y)\n",
    "    return line,\n",
    " \n",
    "anim = FuncAnimation(fig, animate, init_func=init,\n",
    "                               frames=65, interval=300, blit=True)\n",
    "anim.save('gif/график u(t).gif', writer='imagemagick')"
   ]
  },
  {
   "cell_type": "markdown",
   "metadata": {},
   "source": [
    "![Alt Text](https://i.imgur.com/7oJKQCf.gif)"
   ]
  },
  {
   "cell_type": "code",
   "execution_count": null,
   "metadata": {},
   "outputs": [],
   "source": [
    "%matplotlib notebook\n",
    "plt.style.use('seaborn-pastel')\n",
    "\n",
    "fig = plt.figure()\n",
    "ax = plt.axes(xlim=(-10, 10), ylim=(0, 20))\n",
    "ax.set_ylabel(\"ρ,кг/м^3\")\n",
    "ax.set_xlabel(\"x,м\")\n",
    "plt.title('График ρ(t)') \n",
    "plt.grid()\n",
    "line, = ax.plot([], [], lw=3)\n",
    "time_text = ax.text(0.02, 0.95, '', transform=ax.transAxes)\n",
    "\n",
    "def init():\n",
    "    time_text.set_text('')\n",
    "    line.set_data([], [])\n",
    "    return line,\n",
    "def animate(i):\n",
    "    x = X\n",
    "    y = ρdata[i]\n",
    "    time_text.set_text(i)\n",
    "    line.set_data(x, y)\n",
    "    return line,\n",
    " \n",
    "anim = FuncAnimation(fig, animate, init_func=init,\n",
    "                               frames=65, interval=300, blit=True)\n",
    "anim.save('gif/график ρ(t).gif', writer='imagemagick')"
   ]
  },
  {
   "cell_type": "markdown",
   "metadata": {},
   "source": [
    "![Alt Text](https://i.imgur.com/yfM0U0i.gif)"
   ]
  },
  {
   "cell_type": "code",
   "execution_count": null,
   "metadata": {},
   "outputs": [],
   "source": []
  }
 ],
 "metadata": {
  "kernelspec": {
   "display_name": "Python 3",
   "language": "python",
   "name": "python3"
  },
  "language_info": {
   "codemirror_mode": {
    "name": "ipython",
    "version": 3
   },
   "file_extension": ".py",
   "mimetype": "text/x-python",
   "name": "python",
   "nbconvert_exporter": "python",
   "pygments_lexer": "ipython3",
   "version": "3.7.4"
  }
 },
 "nbformat": 4,
 "nbformat_minor": 4
}
